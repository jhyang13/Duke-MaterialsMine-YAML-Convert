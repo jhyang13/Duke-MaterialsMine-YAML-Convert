{
 "cells": [
  {
   "cell_type": "code",
   "execution_count": 1,
   "metadata": {},
   "outputs": [],
   "source": [
    "# Import Dependencies\n",
    "import re\n",
    "import xml.etree.ElementTree as ET\n",
    "import xmlschema\n",
    "import pandas as pd\n",
    "import yaml\n",
    "from collections import OrderedDict\n",
    "from ruamel.yaml import YAML"
   ]
  },
  {
   "cell_type": "code",
   "execution_count": 22,
   "metadata": {},
   "outputs": [],
   "source": [
    "# File paths\n",
    "#xml_input_path = r'C:/Users/jhyan/Documents/all/Research/Duke_research/MaterialsMine_YAMLconvert/resources/input_files/L183_S4_Potschke_2003_origin.xml'  # Replace with your XML file path\n",
    "#yaml_output_path = r'C:/Users/jhyan/Documents/all/Research/Duke_research/MaterialsMine_YAMLconvert/resources/output_files/L183_S4_Potschke_2003.yaml'  # Replace with your output YAML file path"
   ]
  },
  {
   "cell_type": "code",
   "execution_count": 2,
   "metadata": {},
   "outputs": [],
   "source": [
    "# File paths\n",
    "xml_input_path = r'C:/Users/jhyan/Documents/all/Research/Duke_research/MaterialsMine_YAMLconvert/resources/input_files/L175_S5_OReilly_2015_origin.xml'  # Replace with your XML file path\n",
    "yaml_output_path = r'C:/Users/jhyan/Documents/all/Research/Duke_research/MaterialsMine_YAMLconvert/resources/output_files/L175_S5_OReilly_2015.yaml'  # Replace with your output YAML file path"
   ]
  },
  {
   "cell_type": "code",
   "execution_count": 3,
   "metadata": {},
   "outputs": [
    {
     "name": "stdout",
     "output_type": "stream",
     "text": [
      "YAML file has been generated and saved as C:/Users/jhyan/Documents/all/Research/Duke_research/MaterialsMine_YAMLconvert/resources/output_files/L175_S5_OReilly_2015.yaml\n"
     ]
    }
   ],
   "source": [
    "\n",
    "def parse_xml_to_dict(element):\n",
    "    \"\"\"\n",
    "    Recursively parses an XML element into an OrderedDict.\n",
    "\n",
    "    Args:\n",
    "    - element (xml.etree.ElementTree.Element): The XML element to parse.\n",
    "\n",
    "    Returns:\n",
    "    - OrderedDict: OrderedDict representing the XML element.\n",
    "    \"\"\"\n",
    "    parsed_dict = OrderedDict()\n",
    "\n",
    "    # Process element attributes\n",
    "    if element.attrib:\n",
    "        parsed_dict[\"@attributes\"] = element.attrib\n",
    "\n",
    "    # Process child elements\n",
    "    for child in element:\n",
    "        child_dict = parse_xml_to_dict(child)\n",
    "        if child.tag not in parsed_dict:\n",
    "            parsed_dict[child.tag] = child_dict\n",
    "        else:\n",
    "            if not isinstance(parsed_dict[child.tag], list):\n",
    "                parsed_dict[child.tag] = [parsed_dict[child.tag]]\n",
    "            parsed_dict[child.tag].append(child_dict)\n",
    "\n",
    "    # Process element text\n",
    "    if element.text and element.text.strip():\n",
    "        if parsed_dict:\n",
    "            parsed_dict[\"@text\"] = element.text.strip()\n",
    "        else:\n",
    "            return element.text.strip()\n",
    "\n",
    "    return parsed_dict\n",
    "\n",
    "def write_dict_to_yaml(data_dict, file_path):\n",
    "    \"\"\"\n",
    "    Writes a dictionary to a YAML file.\n",
    "\n",
    "    Args:\n",
    "    - data_dict (dict): The dictionary to write.\n",
    "    - file_path (str): The path to the YAML file.\n",
    "    \"\"\"\n",
    "    yaml = YAML()\n",
    "    yaml.default_flow_style = False\n",
    "    yaml.allow_unicode = True\n",
    "    yaml.explicit_start = False\n",
    "    yaml.default_style = None\n",
    "    \n",
    "    # Convert OrderedDict to regular dict to avoid !!omap\n",
    "    def convert_ordereddict(d):\n",
    "        if isinstance(d, OrderedDict):\n",
    "            return dict((k, convert_ordereddict(v)) for k, v in d.items())\n",
    "        elif isinstance(d, list):\n",
    "            return [convert_ordereddict(i) for i in d]\n",
    "        else:\n",
    "            return d\n",
    "\n",
    "    clean_dict = convert_ordereddict(data_dict)\n",
    "\n",
    "    with open(file_path, 'w', encoding='utf-8') as file:\n",
    "        yaml.dump(clean_dict, file)\n",
    "\n",
    "# Parse XML file into an OrderedDict\n",
    "xml_tree = ET.parse(xml_input_path)\n",
    "xml_root = xml_tree.getroot()\n",
    "xml_dict = OrderedDict({xml_root.tag: parse_xml_to_dict(xml_root)})  # Ensure the root tag is included properly\n",
    "\n",
    "# Write the OrderedDict to a YAML file without !!omap\n",
    "write_dict_to_yaml(xml_dict, yaml_output_path)\n",
    "\n",
    "print(f'YAML file has been generated and saved as {yaml_output_path}')"
   ]
  }
 ],
 "metadata": {
  "kernelspec": {
   "display_name": "base",
   "language": "python",
   "name": "python3"
  },
  "language_info": {
   "codemirror_mode": {
    "name": "ipython",
    "version": 3
   },
   "file_extension": ".py",
   "mimetype": "text/x-python",
   "name": "python",
   "nbconvert_exporter": "python",
   "pygments_lexer": "ipython3",
   "version": "3.11.5"
  }
 },
 "nbformat": 4,
 "nbformat_minor": 2
}
