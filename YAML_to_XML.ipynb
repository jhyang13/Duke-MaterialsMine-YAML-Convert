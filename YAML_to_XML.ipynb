{
 "cells": [
  {
   "cell_type": "code",
   "execution_count": 1,
   "metadata": {},
   "outputs": [],
   "source": [
    "# Import Dependencies\n",
    "import re\n",
    "import xml.etree.ElementTree as ET\n",
    "import xmlschema\n",
    "import pandas as pd\n",
    "import yaml\n",
    "from collections import OrderedDict\n",
    "from ruamel.yaml import YAML"
   ]
  },
  {
   "cell_type": "code",
   "execution_count": 2,
   "metadata": {},
   "outputs": [],
   "source": [
    "# File paths\n",
    "yaml_input_path = r'C:/Users/jhyan/Documents/all/Research/Duke_research/MaterialsMine_YAMLconvert/resources/output_files/L183_S4_Potschke_2003.yaml' \n",
    "xml_output_path = r'C:/Users/jhyan/Documents/all/Research/Duke_research/MaterialsMine_YAMLconvert/resources/input_files/L183_S4_Potschke_2003_convert.xml'"
   ]
  },
  {
   "cell_type": "code",
   "execution_count": 8,
   "metadata": {},
   "outputs": [],
   "source": [
    "# File paths\n",
    "#yaml_input_path = r'C:/Users/jhyan/Documents/all/Research/Duke_research/MaterialsMine_YAMLconvert/resources/output_files/L175_S5_OReilly_2015.yaml'  \n",
    "#xml_output_path = r'C:/Users/jhyan/Documents/all/Research/Duke_research/MaterialsMine_YAMLconvert/resources/input_files/L175_S5_OReilly_2015_convert.xml'  "
   ]
  },
  {
   "cell_type": "code",
   "execution_count": 13,
   "metadata": {},
   "outputs": [
    {
     "name": "stdout",
     "output_type": "stream",
     "text": [
      "XML file has been generated and saved as C:/Users/jhyan/Documents/all/Research/Duke_research/MaterialsMine_YAMLconvert/resources/input_files/L175_S5_OReilly_2015_convert.xml\n"
     ]
    }
   ],
   "source": [
    "\n",
    "def dict_to_xml(tag, d):\n",
    "    \"\"\"\n",
    "    Converts a dictionary to an XML element.\n",
    "    \n",
    "    Args:\n",
    "    - tag (str): The tag name for the XML root element.\n",
    "    - d (dict): The dictionary to convert.\n",
    "    \n",
    "    Returns:\n",
    "    - xml.etree.ElementTree.Element: The XML element.\n",
    "    \"\"\"\n",
    "    # Check if the tag name is valid\n",
    "    if not tag.isidentifier():\n",
    "        raise ValueError(f\"Invalid XML element name: '{tag}'\")\n",
    "    \n",
    "    elem = ET.Element(tag)\n",
    "    \n",
    "    if isinstance(d, dict):\n",
    "        # Process attributes and text first\n",
    "        if \"@attributes\" in d:\n",
    "            elem.attrib.update(d[\"@attributes\"])\n",
    "        if \"@text\" in d:\n",
    "            elem.text = d[\"@text\"]\n",
    "        \n",
    "        # Process other elements\n",
    "        for key, val in d.items():\n",
    "            if key in [\"@attributes\", \"@text\"]:\n",
    "                continue\n",
    "            if not key.isidentifier():\n",
    "                raise ValueError(f\"Invalid XML element name: '{key}'\")\n",
    "            if isinstance(val, dict):\n",
    "                child = dict_to_xml(key, val)\n",
    "                elem.append(child)\n",
    "            elif isinstance(val, list):\n",
    "                for sub_dict in val:\n",
    "                    child = dict_to_xml(key, sub_dict)\n",
    "                    elem.append(child)\n",
    "            else:\n",
    "                child = ET.SubElement(elem, key)\n",
    "                child.text = str(val)\n",
    "    elif isinstance(d, list):\n",
    "        for sub_dict in d:\n",
    "            child = dict_to_xml(tag, sub_dict)\n",
    "            elem.append(child)\n",
    "    else:\n",
    "        elem.text = str(d)\n",
    "    \n",
    "    return elem\n",
    "\n",
    "def write_yaml_to_xml(yaml_file_path, xml_output_path):\n",
    "    \"\"\"\n",
    "    Converts a YAML file to an XML file.\n",
    "    \n",
    "    Args:\n",
    "    - yaml_file_path (str): Path to the input YAML file.\n",
    "    - xml_output_path (str): Path to the output XML file.\n",
    "    \"\"\"\n",
    "    yaml = YAML()\n",
    "    with open(yaml_file_path, 'r', encoding='utf-8') as file:\n",
    "        yaml_data = yaml.load(file)\n",
    "    \n",
    "    if isinstance(yaml_data, dict):\n",
    "        root_tag, root_content = next(iter(yaml_data.items()))\n",
    "    else:\n",
    "        raise ValueError(\"The YAML root should be a dictionary with one root element.\")\n",
    "    \n",
    "    xml_element = dict_to_xml(root_tag, root_content)\n",
    "    \n",
    "    tree = ET.ElementTree(xml_element)\n",
    "    tree.write(xml_output_path, encoding='utf-8', xml_declaration=True)\n",
    "    \n",
    "    print(f'XML file has been generated and saved as {xml_output_path}')\n",
    "\n",
    "# Convert YAML to XML\n",
    "write_yaml_to_xml(yaml_input_path, xml_output_path)"
   ]
  }
 ],
 "metadata": {
  "kernelspec": {
   "display_name": "base",
   "language": "python",
   "name": "python3"
  },
  "language_info": {
   "codemirror_mode": {
    "name": "ipython",
    "version": 3
   },
   "file_extension": ".py",
   "mimetype": "text/x-python",
   "name": "python",
   "nbconvert_exporter": "python",
   "pygments_lexer": "ipython3",
   "version": "3.11.5"
  }
 },
 "nbformat": 4,
 "nbformat_minor": 2
}
